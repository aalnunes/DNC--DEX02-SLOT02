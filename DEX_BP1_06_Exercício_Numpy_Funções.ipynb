{
 "nbformat": 4,
 "nbformat_minor": 0,
 "metadata": {
  "colab": {
   "name": "DEX - BP1 06 - Exercício - Numpy: Funções.ipynb",
   "provenance": [],
   "collapsed_sections": []
  },
  "kernelspec": {
   "name": "python3",
   "display_name": "Python 3"
  },
  "language_info": {
   "name": "python"
  }
 },
 "cells": [
  {
   "cell_type": "markdown",
   "metadata": {
    "id": "Me4e2ZieZNcl"
   },
   "source": [
    "![images.png](data:image/png;base64,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)</b> <br>Consultor: Peterson Almeida <br>\n",
    "\n",
    "\n",
    "\n",
    "<h1> Utilizando Funções do Numpy </h1>\n",
    "\n",
    "<b> Geral:</b><br>\n",
    "O numpy possui diversas funções para manipular estrutura de arrays e realizar operações matemáticas.\n",
    "<br> <br>\n",
    "\n"
   ]
  },
  {
   "cell_type": "code",
   "metadata": {
    "id": "0NOYspPuuKBd"
   },
   "source": [],
   "execution_count": 33,
   "outputs": []
  },
  {
   "cell_type": "markdown",
   "metadata": {
    "id": "DgcyrtDhwe2r"
   },
   "source": [
    "<b> Zeros </b1>"
   ]
  },
  {
   "cell_type": "code",
   "metadata": {
    "id": "TJJgfJnFbFJ9",
    "colab": {
     "base_uri": "https://localhost:8080/"
    },
    "outputId": "5129899c-ce7a-4449-8e57-da5be4405f39"
   },
   "source": [
    "import numpy as np\n",
    "np.zeros(5)\n"
   ],
   "execution_count": 34,
   "outputs": [
    {
     "data": {
      "text/plain": "array([0., 0., 0., 0., 0.])"
     },
     "execution_count": 34,
     "metadata": {},
     "output_type": "execute_result"
    }
   ]
  },
  {
   "cell_type": "code",
   "metadata": {
    "colab": {
     "base_uri": "https://localhost:8080/"
    },
    "id": "zm6pp4i5n_Hi",
    "outputId": "9b308c25-5a4a-4328-c23f-d36529ffa29a"
   },
   "source": [
    "np.zeros((5,3))\n"
   ],
   "execution_count": 35,
   "outputs": [
    {
     "data": {
      "text/plain": "array([[0., 0., 0.],\n       [0., 0., 0.],\n       [0., 0., 0.],\n       [0., 0., 0.],\n       [0., 0., 0.]])"
     },
     "execution_count": 35,
     "metadata": {},
     "output_type": "execute_result"
    }
   ]
  },
  {
   "cell_type": "code",
   "metadata": {
    "colab": {
     "base_uri": "https://localhost:8080/"
    },
    "id": "7Zg6LCaPoINL",
    "outputId": "53845290-c22c-44be-cfb2-2f793c14d07d"
   },
   "source": [
    "print(np.zeros((5,3)).ndim)\n",
    "print(np.zeros((5,3,2)).ndim)\n",
    "print(np.zeros((5,3,2,7)).ndim)\n",
    "\n"
   ],
   "execution_count": 36,
   "outputs": [
    {
     "name": "stdout",
     "output_type": "stream",
     "text": [
      "2\n",
      "3\n",
      "4\n"
     ]
    }
   ]
  },
  {
   "cell_type": "code",
   "metadata": {
    "colab": {
     "base_uri": "https://localhost:8080/"
    },
    "id": "OJl1PGxShCHG",
    "outputId": "38237d70-04c6-4fb1-cb5c-858a3651a4a0"
   },
   "source": [
    "np.zeros((5,3)).size\n"
   ],
   "execution_count": 37,
   "outputs": [
    {
     "data": {
      "text/plain": "15"
     },
     "execution_count": 37,
     "metadata": {},
     "output_type": "execute_result"
    }
   ]
  },
  {
   "cell_type": "code",
   "metadata": {
    "colab": {
     "base_uri": "https://localhost:8080/"
    },
    "id": "c7G5fzwRhbO5",
    "outputId": "87b42c3b-8bb5-4398-d212-de1a2e568460"
   },
   "source": [
    "print(np.zeros((5,3)).shape)\n",
    "print(np.zeros((5,3,2)).shape)\n",
    "print(np.zeros((5,3,2,7)).shape)\n"
   ],
   "execution_count": 38,
   "outputs": [
    {
     "name": "stdout",
     "output_type": "stream",
     "text": [
      "(5, 3)\n",
      "(5, 3, 2)\n",
      "(5, 3, 2, 7)\n"
     ]
    }
   ]
  },
  {
   "cell_type": "code",
   "metadata": {
    "colab": {
     "base_uri": "https://localhost:8080/"
    },
    "id": "dhtRnT5xh5j0",
    "outputId": "17576d98-0e10-4aed-bcdd-f44400851665"
   },
   "source": [
    "type(np.zeros((3,4)))\n"
   ],
   "execution_count": 39,
   "outputs": [
    {
     "data": {
      "text/plain": "numpy.ndarray"
     },
     "execution_count": 39,
     "metadata": {},
     "output_type": "execute_result"
    }
   ]
  },
  {
   "cell_type": "code",
   "metadata": {
    "colab": {
     "base_uri": "https://localhost:8080/"
    },
    "id": "CaAiHdmBiOIz",
    "outputId": "3318082f-8d59-4d82-cc21-565b66b31738"
   },
   "source": [
    "np.ones((3,4))\n"
   ],
   "execution_count": 40,
   "outputs": [
    {
     "data": {
      "text/plain": "array([[1., 1., 1., 1.],\n       [1., 1., 1., 1.],\n       [1., 1., 1., 1.]])"
     },
     "execution_count": 40,
     "metadata": {},
     "output_type": "execute_result"
    }
   ]
  },
  {
   "cell_type": "code",
   "metadata": {
    "colab": {
     "base_uri": "https://localhost:8080/"
    },
    "id": "HSfjBN6SkQlK",
    "outputId": "2ea229ae-5e51-4d58-882f-37922494fe33"
   },
   "source": [
    "np.full((3,4), np.pi)\n"
   ],
   "execution_count": 41,
   "outputs": [
    {
     "data": {
      "text/plain": "array([[3.14159265, 3.14159265, 3.14159265, 3.14159265],\n       [3.14159265, 3.14159265, 3.14159265, 3.14159265],\n       [3.14159265, 3.14159265, 3.14159265, 3.14159265]])"
     },
     "execution_count": 41,
     "metadata": {},
     "output_type": "execute_result"
    }
   ]
  },
  {
   "cell_type": "code",
   "metadata": {
    "colab": {
     "base_uri": "https://localhost:8080/"
    },
    "id": "EPFuaGRRkiEk",
    "outputId": "303a93f1-5356-4dca-cb97-83e8e0f73608"
   },
   "source": [
    "np.full((3,4), 7)\n"
   ],
   "execution_count": 42,
   "outputs": [
    {
     "data": {
      "text/plain": "array([[7, 7, 7, 7],\n       [7, 7, 7, 7],\n       [7, 7, 7, 7]])"
     },
     "execution_count": 42,
     "metadata": {},
     "output_type": "execute_result"
    }
   ]
  },
  {
   "cell_type": "code",
   "metadata": {
    "id": "D-E7Q2Z2mY5l",
    "colab": {
     "base_uri": "https://localhost:8080/"
    },
    "outputId": "2feeaec9-c9bf-4219-a4f2-26abd2ae5aed"
   },
   "source": [
    "np.arange(1, 5)\n"
   ],
   "execution_count": 43,
   "outputs": [
    {
     "data": {
      "text/plain": "array([1, 2, 3, 4])"
     },
     "execution_count": 43,
     "metadata": {},
     "output_type": "execute_result"
    }
   ]
  },
  {
   "cell_type": "code",
   "metadata": {
    "colab": {
     "base_uri": "https://localhost:8080/"
    },
    "id": "i6LXKGqL4d68",
    "outputId": "30c95739-4d33-4831-d8c9-5285a6493502"
   },
   "source": [
    "print(np.arange(0, 3/3, 1/3)) \n",
    "print(np.arange(0, 4/3, 0.333333333))\n",
    "print(np.arange(0, 4/3, 0.333333334))"
   ],
   "execution_count": 44,
   "outputs": [
    {
     "name": "stdout",
     "output_type": "stream",
     "text": [
      "[0.         0.33333333 0.66666667]\n",
      "[0.         0.33333333 0.66666667 1.         1.33333333]\n",
      "[0.         0.33333333 0.66666667 1.        ]\n"
     ]
    }
   ]
  },
  {
   "cell_type": "code",
   "metadata": {
    "colab": {
     "base_uri": "https://localhost:8080/"
    },
    "id": "T7Q7F3mY4iWX",
    "outputId": "226bde1a-0f29-4797-f1e1-c8b58c908f4e"
   },
   "source": [
    "print(np.linspace(0, 9/3, 3))\n"
   ],
   "execution_count": 45,
   "outputs": [
    {
     "name": "stdout",
     "output_type": "stream",
     "text": [
      "[0.  1.5 3. ]\n"
     ]
    }
   ]
  },
  {
   "cell_type": "code",
   "metadata": {
    "colab": {
     "base_uri": "https://localhost:8080/"
    },
    "id": "64RDPS9i4qUP",
    "outputId": "b647a1dc-856b-4d4b-eb76-5f0e1cf74264"
   },
   "source": [
    "np.random.rand(9,10)\n"
   ],
   "execution_count": 46,
   "outputs": [
    {
     "data": {
      "text/plain": "array([[0.3178922 , 0.80742263, 0.23156668, 0.27256541, 0.14236385,\n        0.11312285, 0.95763605, 0.09568211, 0.63897558, 0.00952918],\n       [0.98623269, 0.54579374, 0.81594501, 0.26073518, 0.1310171 ,\n        0.84843055, 0.14724471, 0.68255179, 0.13735163, 0.38377942],\n       [0.96489101, 0.21501344, 0.43308869, 0.01611878, 0.43452702,\n        0.55868441, 0.6409959 , 0.43780242, 0.41551235, 0.42824899],\n       [0.2940852 , 0.51776449, 0.90814326, 0.60550978, 0.77695498,\n        0.48039993, 0.13433544, 0.78944468, 0.97607326, 0.20213742],\n       [0.56435446, 0.79083136, 0.74278496, 0.8379838 , 0.71790922,\n        0.23777591, 0.95839696, 0.74569106, 0.50195899, 0.61876391],\n       [0.864132  , 0.10975603, 0.37127088, 0.32572635, 0.44537792,\n        0.11699862, 0.69394568, 0.37699455, 0.41541811, 0.94303162],\n       [0.11821149, 0.47657955, 0.97867696, 0.68605956, 0.81417648,\n        0.41516093, 0.68763188, 0.94731567, 0.8092266 , 0.83534899],\n       [0.64013486, 0.65232106, 0.17581675, 0.97915994, 0.32973405,\n        0.00368264, 0.14711542, 0.6601924 , 0.66179902, 0.3025163 ],\n       [0.55249299, 0.53100942, 0.17630838, 0.94194999, 0.25828646,\n        0.06141223, 0.72236293, 0.33833788, 0.65213514, 0.43375108]])"
     },
     "execution_count": 46,
     "metadata": {},
     "output_type": "execute_result"
    }
   ]
  },
  {
   "cell_type": "code",
   "metadata": {
    "colab": {
     "base_uri": "https://localhost:8080/"
    },
    "id": "eixiQp4G4uGU",
    "outputId": "d8326708-20b6-4dac-9937-95b1e2ad6054"
   },
   "source": [
    "np.random.randn(10)\n"
   ],
   "execution_count": 47,
   "outputs": [
    {
     "data": {
      "text/plain": "array([-0.98241284,  0.05006346,  0.82515901, -1.86633188,  0.27431692,\n       -0.05667426, -0.96101035, -0.66427212,  1.20399168,  0.56096722])"
     },
     "execution_count": 47,
     "metadata": {},
     "output_type": "execute_result"
    }
   ]
  },
  {
   "cell_type": "code",
   "metadata": {
    "colab": {
     "base_uri": "https://localhost:8080/"
    },
    "id": "JbaKUWSF4zg-",
    "outputId": "26f7451d-f2d2-406a-c332-66a3917eefff"
   },
   "source": [
    "np.linspace(0,9,10)\n"
   ],
   "execution_count": 48,
   "outputs": [
    {
     "data": {
      "text/plain": "array([0., 1., 2., 3., 4., 5., 6., 7., 8., 9.])"
     },
     "execution_count": 48,
     "metadata": {},
     "output_type": "execute_result"
    }
   ]
  },
  {
   "cell_type": "code",
   "metadata": {
    "colab": {
     "base_uri": "https://localhost:8080/"
    },
    "id": "1AsiCyqf47Wm",
    "outputId": "4c9f788c-b509-42c2-89cd-74d539c184b6"
   },
   "source": [
    "multi=np.arange(0,30).reshape(2,5,3)\n",
    "multi"
   ],
   "execution_count": 49,
   "outputs": [
    {
     "data": {
      "text/plain": "array([[[ 0,  1,  2],\n        [ 3,  4,  5],\n        [ 6,  7,  8],\n        [ 9, 10, 11],\n        [12, 13, 14]],\n\n       [[15, 16, 17],\n        [18, 19, 20],\n        [21, 22, 23],\n        [24, 25, 26],\n        [27, 28, 29]]])"
     },
     "execution_count": 49,
     "metadata": {},
     "output_type": "execute_result"
    }
   ]
  },
  {
   "cell_type": "code",
   "metadata": {
    "colab": {
     "base_uri": "https://localhost:8080/"
    },
    "id": "bS-2jlvc5OEl",
    "outputId": "14c94e61-dd6f-45ae-8ca1-785c4c20636b"
   },
   "source": [
    "multi.ravel()\n"
   ],
   "execution_count": 50,
   "outputs": [
    {
     "data": {
      "text/plain": "array([ 0,  1,  2,  3,  4,  5,  6,  7,  8,  9, 10, 11, 12, 13, 14, 15, 16,\n       17, 18, 19, 20, 21, 22, 23, 24, 25, 26, 27, 28, 29])"
     },
     "execution_count": 50,
     "metadata": {},
     "output_type": "execute_result"
    }
   ]
  },
  {
   "cell_type": "code",
   "metadata": {
    "colab": {
     "base_uri": "https://localhost:8080/"
    },
    "id": "TrKXVBPl5RXG",
    "outputId": "9ec130e9-32ae-4561-880d-4349b49d2585"
   },
   "source": [
    "multi + 3"
   ],
   "execution_count": 51,
   "outputs": [
    {
     "data": {
      "text/plain": "array([[[ 3,  4,  5],\n        [ 6,  7,  8],\n        [ 9, 10, 11],\n        [12, 13, 14],\n        [15, 16, 17]],\n\n       [[18, 19, 20],\n        [21, 22, 23],\n        [24, 25, 26],\n        [27, 28, 29],\n        [30, 31, 32]]])"
     },
     "execution_count": 51,
     "metadata": {},
     "output_type": "execute_result"
    }
   ]
  },
  {
   "cell_type": "code",
   "metadata": {
    "colab": {
     "base_uri": "https://localhost:8080/"
    },
    "id": "UBG5x_ZI5cpj",
    "outputId": "3e4e1e27-8fad-4fc6-df98-70ed634bcc70"
   },
   "source": [
    "mask = multi >10\n",
    "mask"
   ],
   "execution_count": 52,
   "outputs": [
    {
     "data": {
      "text/plain": "array([[[False, False, False],\n        [False, False, False],\n        [False, False, False],\n        [False, False,  True],\n        [ True,  True,  True]],\n\n       [[ True,  True,  True],\n        [ True,  True,  True],\n        [ True,  True,  True],\n        [ True,  True,  True],\n        [ True,  True,  True]]])"
     },
     "execution_count": 52,
     "metadata": {},
     "output_type": "execute_result"
    }
   ]
  },
  {
   "cell_type": "code",
   "metadata": {
    "colab": {
     "base_uri": "https://localhost:8080/"
    },
    "id": "pcJ1Awf_5tmz",
    "outputId": "6e548d56-be38-46a7-8e9c-1ddf224315b4"
   },
   "source": [
    "multi[mask]"
   ],
   "execution_count": 53,
   "outputs": [
    {
     "data": {
      "text/plain": "array([11, 12, 13, 14, 15, 16, 17, 18, 19, 20, 21, 22, 23, 24, 25, 26, 27,\n       28, 29])"
     },
     "execution_count": 53,
     "metadata": {},
     "output_type": "execute_result"
    }
   ]
  },
  {
   "cell_type": "markdown",
   "metadata": {
    "id": "VFq4Qccp6x1K"
   },
   "source": [
    "Variância e Desvio Padrão\n",
    "Variância é uma medida de dispersão e é usada também para expressar o quanto um conjunto de dados se desvia da média. O desvio padrão (DP) é definido como a raiz quadrada da variância (V)."
   ]
  },
  {
   "cell_type": "code",
   "metadata": {
    "colab": {
     "base_uri": "https://localhost:8080/"
    },
    "id": "FARHyCcH5v2L",
    "outputId": "6cc22498-177e-414c-c410-4f9b06a7bc25"
   },
   "source": [
    "print('min:',multi.min(), 'max:',multi.max(),'soma:', multi.sum(),'desvio padrao:', multi.std(),'varian:', multi.var())\n"
   ],
   "execution_count": 54,
   "outputs": [
    {
     "name": "stdout",
     "output_type": "stream",
     "text": [
      "min: 0 max: 29 soma: 435 desvio padrao: 8.65544144839919 varian: 74.91666666666667\n"
     ]
    }
   ]
  },
  {
   "cell_type": "code",
   "metadata": {
    "colab": {
     "base_uri": "https://localhost:8080/"
    },
    "id": "_CP5RfIZ6Gid",
    "outputId": "26439956-0e30-4a44-d0ec-a8ce9dd27f00"
   },
   "source": [
    "np.square(multi)\n"
   ],
   "execution_count": 55,
   "outputs": [
    {
     "data": {
      "text/plain": "array([[[  0,   1,   4],\n        [  9,  16,  25],\n        [ 36,  49,  64],\n        [ 81, 100, 121],\n        [144, 169, 196]],\n\n       [[225, 256, 289],\n        [324, 361, 400],\n        [441, 484, 529],\n        [576, 625, 676],\n        [729, 784, 841]]], dtype=int32)"
     },
     "execution_count": 55,
     "metadata": {},
     "output_type": "execute_result"
    }
   ]
  },
  {
   "cell_type": "markdown",
   "metadata": {
    "id": "jK3shbGX7MMG"
   },
   "source": [
    "Mais funções do [numpy](https://numpy.org/doc/stable/reference/routines.math.html)"
   ]
  },
  {
   "cell_type": "markdown",
   "metadata": {
    "id": "Zr3oah7c7Tyd"
   },
   "source": [
    "<h3> Exercícios</b>"
   ]
  },
  {
   "cell_type": "markdown",
   "metadata": {
    "id": "oy7oTFbd7Xlh"
   },
   "source": [
    "1. Crie um array com shape (3,2,7) com números inteiros de 0 a 42."
   ]
  },
  {
   "cell_type": "code",
   "metadata": {
    "id": "Con9Cqc162ZD"
   },
   "source": [
    "dados = np.array(range(0,42)).reshape(3,2,7)\n",
    "\n",
    "dados"
   ],
   "execution_count": 59,
   "outputs": [
    {
     "data": {
      "text/plain": "array([[[ 0,  1,  2,  3,  4,  5,  6],\n        [ 7,  8,  9, 10, 11, 12, 13]],\n\n       [[14, 15, 16, 17, 18, 19, 20],\n        [21, 22, 23, 24, 25, 26, 27]],\n\n       [[28, 29, 30, 31, 32, 33, 34],\n        [35, 36, 37, 38, 39, 40, 41]]])"
     },
     "execution_count": 59,
     "metadata": {},
     "output_type": "execute_result"
    }
   ]
  },
  {
   "cell_type": "markdown",
   "metadata": {
    "id": "fzCgUOB371Ui"
   },
   "source": [
    "2. Multiplique por 2 cada número dentro do array que seja maior que 31."
   ]
  },
  {
   "cell_type": "code",
   "metadata": {
    "id": "e_diEm0m7wwQ"
   },
   "source": [
    "for x in dados:\n",
    "    for y in dados:\n",
    "        for z in dados:\n",
    "            print(z < 31).any()"
   ],
   "execution_count": 74,
   "outputs": [
    {
     "name": "stdout",
     "output_type": "stream",
     "text": [
      "[[ True  True  True  True  True  True  True]\n",
      " [ True  True  True  True  True  True  True]]\n"
     ]
    },
    {
     "ename": "AttributeError",
     "evalue": "'NoneType' object has no attribute 'any'",
     "output_type": "error",
     "traceback": [
      "\u001B[1;31m---------------------------------------------------------------------------\u001B[0m",
      "\u001B[1;31mAttributeError\u001B[0m                            Traceback (most recent call last)",
      "\u001B[1;32m<ipython-input-74-64ca74043e0c>\u001B[0m in \u001B[0;36m<module>\u001B[1;34m\u001B[0m\n\u001B[0;32m      2\u001B[0m     \u001B[1;32mfor\u001B[0m \u001B[0my\u001B[0m \u001B[1;32min\u001B[0m \u001B[0mdados\u001B[0m\u001B[1;33m:\u001B[0m\u001B[1;33m\u001B[0m\u001B[1;33m\u001B[0m\u001B[0m\n\u001B[0;32m      3\u001B[0m         \u001B[1;32mfor\u001B[0m \u001B[0mz\u001B[0m \u001B[1;32min\u001B[0m \u001B[0mdados\u001B[0m\u001B[1;33m:\u001B[0m\u001B[1;33m\u001B[0m\u001B[1;33m\u001B[0m\u001B[0m\n\u001B[1;32m----> 4\u001B[1;33m             \u001B[0mprint\u001B[0m\u001B[1;33m(\u001B[0m\u001B[0mz\u001B[0m \u001B[1;33m<\u001B[0m \u001B[1;36m31\u001B[0m\u001B[1;33m)\u001B[0m\u001B[1;33m.\u001B[0m\u001B[0many\u001B[0m\u001B[1;33m(\u001B[0m\u001B[1;33m)\u001B[0m\u001B[1;33m\u001B[0m\u001B[1;33m\u001B[0m\u001B[0m\n\u001B[0m",
      "\u001B[1;31mAttributeError\u001B[0m: 'NoneType' object has no attribute 'any'"
     ]
    }
   ]
  },
  {
   "cell_type": "markdown",
   "metadata": {
    "id": "1qIrLfTF8Bkm"
   },
   "source": [
    "3. Calcule o desvio padrão, variância, soma e a soma acumulada do array."
   ]
  },
  {
   "cell_type": "code",
   "metadata": {
    "id": "MAJh4W918k76"
   },
   "source": [
    "print('min:',dados.min(), 'max:',dados.max(),'soma:', dados.sum(),'desvio padrao:', dados.std(),'varian:', dados.var())"
   ],
   "execution_count": 84,
   "outputs": [
    {
     "name": "stdout",
     "output_type": "stream",
     "text": [
      "min: 0 max: 41 soma: 861 desvio padrao: 12.120918557051139 varian: 146.91666666666666\n"
     ]
    }
   ]
  }
 ]
}